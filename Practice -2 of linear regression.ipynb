{
 "cells": [
  {
   "cell_type": "code",
   "execution_count": 27,
   "id": "cc1cde5d",
   "metadata": {},
   "outputs": [],
   "source": [
    "import pandas as pd\n",
    "import numpy as np\n",
    "import matplotlib.pyplot as plt\n",
    "import seaborn as sns\n",
    "from sklearn.linear_model import Lasso, LassoCV, Ridge, RidgeCV, ElasticNet, ElasticNetCV, LinearRegression\n",
    "from sklearn.model_selection import train_test_split\n",
    "import statsmodels.api as sm\n",
    "from pandas_profiling import ProfileReport\n",
    "from sklearn.preprocessing import StandardScaler"
   ]
  },
  {
   "cell_type": "code",
   "execution_count": 17,
   "id": "d7c428e3",
   "metadata": {},
   "outputs": [],
   "source": [
    "df = pd.read_excel(r\"C:\\Users\\ts-sachin.bhumihar\\Downloads\\Real estate valuation data set.xlsx\")"
   ]
  },
  {
   "cell_type": "code",
   "execution_count": 18,
   "id": "8263fe51",
   "metadata": {},
   "outputs": [
    {
     "data": {
      "text/html": [
       "<div>\n",
       "<style scoped>\n",
       "    .dataframe tbody tr th:only-of-type {\n",
       "        vertical-align: middle;\n",
       "    }\n",
       "\n",
       "    .dataframe tbody tr th {\n",
       "        vertical-align: top;\n",
       "    }\n",
       "\n",
       "    .dataframe thead th {\n",
       "        text-align: right;\n",
       "    }\n",
       "</style>\n",
       "<table border=\"1\" class=\"dataframe\">\n",
       "  <thead>\n",
       "    <tr style=\"text-align: right;\">\n",
       "      <th></th>\n",
       "      <th>No</th>\n",
       "      <th>X1 transaction date</th>\n",
       "      <th>X2 house age</th>\n",
       "      <th>X3 distance to the nearest MRT station</th>\n",
       "      <th>X4 number of convenience stores</th>\n",
       "      <th>X5 latitude</th>\n",
       "      <th>X6 longitude</th>\n",
       "      <th>Y house price of unit area</th>\n",
       "    </tr>\n",
       "  </thead>\n",
       "  <tbody>\n",
       "    <tr>\n",
       "      <th>0</th>\n",
       "      <td>1</td>\n",
       "      <td>2012.916667</td>\n",
       "      <td>32.0</td>\n",
       "      <td>84.87882</td>\n",
       "      <td>10</td>\n",
       "      <td>24.98298</td>\n",
       "      <td>121.54024</td>\n",
       "      <td>37.9</td>\n",
       "    </tr>\n",
       "    <tr>\n",
       "      <th>1</th>\n",
       "      <td>2</td>\n",
       "      <td>2012.916667</td>\n",
       "      <td>19.5</td>\n",
       "      <td>306.59470</td>\n",
       "      <td>9</td>\n",
       "      <td>24.98034</td>\n",
       "      <td>121.53951</td>\n",
       "      <td>42.2</td>\n",
       "    </tr>\n",
       "    <tr>\n",
       "      <th>2</th>\n",
       "      <td>3</td>\n",
       "      <td>2013.583333</td>\n",
       "      <td>13.3</td>\n",
       "      <td>561.98450</td>\n",
       "      <td>5</td>\n",
       "      <td>24.98746</td>\n",
       "      <td>121.54391</td>\n",
       "      <td>47.3</td>\n",
       "    </tr>\n",
       "    <tr>\n",
       "      <th>3</th>\n",
       "      <td>4</td>\n",
       "      <td>2013.500000</td>\n",
       "      <td>13.3</td>\n",
       "      <td>561.98450</td>\n",
       "      <td>5</td>\n",
       "      <td>24.98746</td>\n",
       "      <td>121.54391</td>\n",
       "      <td>54.8</td>\n",
       "    </tr>\n",
       "    <tr>\n",
       "      <th>4</th>\n",
       "      <td>5</td>\n",
       "      <td>2012.833333</td>\n",
       "      <td>5.0</td>\n",
       "      <td>390.56840</td>\n",
       "      <td>5</td>\n",
       "      <td>24.97937</td>\n",
       "      <td>121.54245</td>\n",
       "      <td>43.1</td>\n",
       "    </tr>\n",
       "  </tbody>\n",
       "</table>\n",
       "</div>"
      ],
      "text/plain": [
       "   No  X1 transaction date  X2 house age  ...  X5 latitude  X6 longitude  Y house price of unit area\n",
       "0   1          2012.916667          32.0  ...     24.98298     121.54024                        37.9\n",
       "1   2          2012.916667          19.5  ...     24.98034     121.53951                        42.2\n",
       "2   3          2013.583333          13.3  ...     24.98746     121.54391                        47.3\n",
       "3   4          2013.500000          13.3  ...     24.98746     121.54391                        54.8\n",
       "4   5          2012.833333           5.0  ...     24.97937     121.54245                        43.1\n",
       "\n",
       "[5 rows x 8 columns]"
      ]
     },
     "execution_count": 18,
     "metadata": {},
     "output_type": "execute_result"
    }
   ],
   "source": [
    "df.head()"
   ]
  },
  {
   "cell_type": "code",
   "execution_count": 19,
   "id": "07377b93",
   "metadata": {},
   "outputs": [
    {
     "data": {
      "text/html": [
       "<div>\n",
       "<style scoped>\n",
       "    .dataframe tbody tr th:only-of-type {\n",
       "        vertical-align: middle;\n",
       "    }\n",
       "\n",
       "    .dataframe tbody tr th {\n",
       "        vertical-align: top;\n",
       "    }\n",
       "\n",
       "    .dataframe thead th {\n",
       "        text-align: right;\n",
       "    }\n",
       "</style>\n",
       "<table border=\"1\" class=\"dataframe\">\n",
       "  <thead>\n",
       "    <tr style=\"text-align: right;\">\n",
       "      <th></th>\n",
       "      <th>No</th>\n",
       "      <th>X1 transaction date</th>\n",
       "      <th>X2 house age</th>\n",
       "      <th>X3 distance to the nearest MRT station</th>\n",
       "      <th>X4 number of convenience stores</th>\n",
       "      <th>X5 latitude</th>\n",
       "      <th>X6 longitude</th>\n",
       "      <th>Y house price of unit area</th>\n",
       "    </tr>\n",
       "  </thead>\n",
       "  <tbody>\n",
       "    <tr>\n",
       "      <th>409</th>\n",
       "      <td>410</td>\n",
       "      <td>2013.000000</td>\n",
       "      <td>13.7</td>\n",
       "      <td>4082.01500</td>\n",
       "      <td>0</td>\n",
       "      <td>24.94155</td>\n",
       "      <td>121.50381</td>\n",
       "      <td>15.4</td>\n",
       "    </tr>\n",
       "    <tr>\n",
       "      <th>410</th>\n",
       "      <td>411</td>\n",
       "      <td>2012.666667</td>\n",
       "      <td>5.6</td>\n",
       "      <td>90.45606</td>\n",
       "      <td>9</td>\n",
       "      <td>24.97433</td>\n",
       "      <td>121.54310</td>\n",
       "      <td>50.0</td>\n",
       "    </tr>\n",
       "    <tr>\n",
       "      <th>411</th>\n",
       "      <td>412</td>\n",
       "      <td>2013.250000</td>\n",
       "      <td>18.8</td>\n",
       "      <td>390.96960</td>\n",
       "      <td>7</td>\n",
       "      <td>24.97923</td>\n",
       "      <td>121.53986</td>\n",
       "      <td>40.6</td>\n",
       "    </tr>\n",
       "    <tr>\n",
       "      <th>412</th>\n",
       "      <td>413</td>\n",
       "      <td>2013.000000</td>\n",
       "      <td>8.1</td>\n",
       "      <td>104.81010</td>\n",
       "      <td>5</td>\n",
       "      <td>24.96674</td>\n",
       "      <td>121.54067</td>\n",
       "      <td>52.5</td>\n",
       "    </tr>\n",
       "    <tr>\n",
       "      <th>413</th>\n",
       "      <td>414</td>\n",
       "      <td>2013.500000</td>\n",
       "      <td>6.5</td>\n",
       "      <td>90.45606</td>\n",
       "      <td>9</td>\n",
       "      <td>24.97433</td>\n",
       "      <td>121.54310</td>\n",
       "      <td>63.9</td>\n",
       "    </tr>\n",
       "  </tbody>\n",
       "</table>\n",
       "</div>"
      ],
      "text/plain": [
       "      No  X1 transaction date  X2 house age  ...  X5 latitude  X6 longitude  Y house price of unit area\n",
       "409  410          2013.000000          13.7  ...     24.94155     121.50381                        15.4\n",
       "410  411          2012.666667           5.6  ...     24.97433     121.54310                        50.0\n",
       "411  412          2013.250000          18.8  ...     24.97923     121.53986                        40.6\n",
       "412  413          2013.000000           8.1  ...     24.96674     121.54067                        52.5\n",
       "413  414          2013.500000           6.5  ...     24.97433     121.54310                        63.9\n",
       "\n",
       "[5 rows x 8 columns]"
      ]
     },
     "execution_count": 19,
     "metadata": {},
     "output_type": "execute_result"
    }
   ],
   "source": [
    "df.tail()"
   ]
  },
  {
   "cell_type": "code",
   "execution_count": 21,
   "id": "1743593e",
   "metadata": {},
   "outputs": [],
   "source": [
    "df.drop(columns = \"No\", inplace = True)"
   ]
  },
  {
   "cell_type": "code",
   "execution_count": 22,
   "id": "99fe701f",
   "metadata": {},
   "outputs": [
    {
     "data": {
      "text/html": [
       "<div>\n",
       "<style scoped>\n",
       "    .dataframe tbody tr th:only-of-type {\n",
       "        vertical-align: middle;\n",
       "    }\n",
       "\n",
       "    .dataframe tbody tr th {\n",
       "        vertical-align: top;\n",
       "    }\n",
       "\n",
       "    .dataframe thead th {\n",
       "        text-align: right;\n",
       "    }\n",
       "</style>\n",
       "<table border=\"1\" class=\"dataframe\">\n",
       "  <thead>\n",
       "    <tr style=\"text-align: right;\">\n",
       "      <th></th>\n",
       "      <th>X1 transaction date</th>\n",
       "      <th>X2 house age</th>\n",
       "      <th>X3 distance to the nearest MRT station</th>\n",
       "      <th>X4 number of convenience stores</th>\n",
       "      <th>X5 latitude</th>\n",
       "      <th>X6 longitude</th>\n",
       "      <th>Y house price of unit area</th>\n",
       "    </tr>\n",
       "  </thead>\n",
       "  <tbody>\n",
       "    <tr>\n",
       "      <th>0</th>\n",
       "      <td>2012.916667</td>\n",
       "      <td>32.0</td>\n",
       "      <td>84.87882</td>\n",
       "      <td>10</td>\n",
       "      <td>24.98298</td>\n",
       "      <td>121.54024</td>\n",
       "      <td>37.9</td>\n",
       "    </tr>\n",
       "    <tr>\n",
       "      <th>1</th>\n",
       "      <td>2012.916667</td>\n",
       "      <td>19.5</td>\n",
       "      <td>306.59470</td>\n",
       "      <td>9</td>\n",
       "      <td>24.98034</td>\n",
       "      <td>121.53951</td>\n",
       "      <td>42.2</td>\n",
       "    </tr>\n",
       "  </tbody>\n",
       "</table>\n",
       "</div>"
      ],
      "text/plain": [
       "   X1 transaction date  X2 house age  ...  X6 longitude  Y house price of unit area\n",
       "0          2012.916667          32.0  ...     121.54024                        37.9\n",
       "1          2012.916667          19.5  ...     121.53951                        42.2\n",
       "\n",
       "[2 rows x 7 columns]"
      ]
     },
     "execution_count": 22,
     "metadata": {},
     "output_type": "execute_result"
    }
   ],
   "source": [
    "df.head(2)"
   ]
  },
  {
   "cell_type": "code",
   "execution_count": 23,
   "id": "58a14aca",
   "metadata": {},
   "outputs": [
    {
     "data": {
      "text/plain": [
       "X1 transaction date                       0\n",
       "X2 house age                              0\n",
       "X3 distance to the nearest MRT station    0\n",
       "X4 number of convenience stores           0\n",
       "X5 latitude                               0\n",
       "X6 longitude                              0\n",
       "Y house price of unit area                0\n",
       "dtype: int64"
      ]
     },
     "execution_count": 23,
     "metadata": {},
     "output_type": "execute_result"
    }
   ],
   "source": [
    "df.isnull().sum()"
   ]
  },
  {
   "cell_type": "code",
   "execution_count": 24,
   "id": "72527a61",
   "metadata": {},
   "outputs": [
    {
     "data": {
      "text/plain": [
       "X1 transaction date                       float64\n",
       "X2 house age                              float64\n",
       "X3 distance to the nearest MRT station    float64\n",
       "X4 number of convenience stores             int64\n",
       "X5 latitude                               float64\n",
       "X6 longitude                              float64\n",
       "Y house price of unit area                float64\n",
       "dtype: object"
      ]
     },
     "execution_count": 24,
     "metadata": {},
     "output_type": "execute_result"
    }
   ],
   "source": [
    "df.dtypes"
   ]
  },
  {
   "cell_type": "code",
   "execution_count": 25,
   "id": "53c9bf0f",
   "metadata": {},
   "outputs": [],
   "source": [
    "pf = ProfileReport(df)"
   ]
  },
  {
   "cell_type": "code",
   "execution_count": 26,
   "id": "3d2920aa",
   "metadata": {},
   "outputs": [
    {
     "data": {
      "application/vnd.jupyter.widget-view+json": {
       "model_id": "347dacec844141efb1c84060c57c06d4",
       "version_major": 2,
       "version_minor": 0
      },
      "text/plain": [
       "Summarize dataset:   0%|          | 0/5 [00:00<?, ?it/s]"
      ]
     },
     "metadata": {},
     "output_type": "display_data"
    },
    {
     "data": {
      "application/vnd.jupyter.widget-view+json": {
       "model_id": "7431d8d95ac841c6899337f5cef5d0a1",
       "version_major": 2,
       "version_minor": 0
      },
      "text/plain": [
       "Generate report structure:   0%|          | 0/1 [00:00<?, ?it/s]"
      ]
     },
     "metadata": {},
     "output_type": "display_data"
    },
    {
     "data": {
      "application/vnd.jupyter.widget-view+json": {
       "model_id": "",
       "version_major": 2,
       "version_minor": 0
      },
      "text/plain": [
       "Render widgets:   0%|          | 0/1 [00:00<?, ?it/s]"
      ]
     },
     "metadata": {},
     "output_type": "display_data"
    },
    {
     "data": {
      "application/vnd.jupyter.widget-view+json": {
       "model_id": "385e02578dd5470c811b0c29e25a1e8a",
       "version_major": 2,
       "version_minor": 0
      },
      "text/plain": [
       "VBox(children=(Tab(children=(Tab(children=(GridBox(children=(VBox(children=(GridspecLayout(children=(HTML(valu…"
      ]
     },
     "metadata": {},
     "output_type": "display_data"
    }
   ],
   "source": [
    "pf.to_widgets()"
   ]
  },
  {
   "cell_type": "code",
   "execution_count": 28,
   "id": "8d176e72",
   "metadata": {},
   "outputs": [
    {
     "data": {
      "text/html": [
       "<div>\n",
       "<style scoped>\n",
       "    .dataframe tbody tr th:only-of-type {\n",
       "        vertical-align: middle;\n",
       "    }\n",
       "\n",
       "    .dataframe tbody tr th {\n",
       "        vertical-align: top;\n",
       "    }\n",
       "\n",
       "    .dataframe thead th {\n",
       "        text-align: right;\n",
       "    }\n",
       "</style>\n",
       "<table border=\"1\" class=\"dataframe\">\n",
       "  <thead>\n",
       "    <tr style=\"text-align: right;\">\n",
       "      <th></th>\n",
       "      <th>X1 transaction date</th>\n",
       "      <th>X2 house age</th>\n",
       "      <th>X3 distance to the nearest MRT station</th>\n",
       "      <th>X4 number of convenience stores</th>\n",
       "      <th>X5 latitude</th>\n",
       "      <th>X6 longitude</th>\n",
       "      <th>Y house price of unit area</th>\n",
       "    </tr>\n",
       "  </thead>\n",
       "  <tbody>\n",
       "    <tr>\n",
       "      <th>0</th>\n",
       "      <td>2012.916667</td>\n",
       "      <td>32.0</td>\n",
       "      <td>84.87882</td>\n",
       "      <td>10</td>\n",
       "      <td>24.98298</td>\n",
       "      <td>121.54024</td>\n",
       "      <td>37.9</td>\n",
       "    </tr>\n",
       "    <tr>\n",
       "      <th>1</th>\n",
       "      <td>2012.916667</td>\n",
       "      <td>19.5</td>\n",
       "      <td>306.59470</td>\n",
       "      <td>9</td>\n",
       "      <td>24.98034</td>\n",
       "      <td>121.53951</td>\n",
       "      <td>42.2</td>\n",
       "    </tr>\n",
       "  </tbody>\n",
       "</table>\n",
       "</div>"
      ],
      "text/plain": [
       "   X1 transaction date  X2 house age  ...  X6 longitude  Y house price of unit area\n",
       "0          2012.916667          32.0  ...     121.54024                        37.9\n",
       "1          2012.916667          19.5  ...     121.53951                        42.2\n",
       "\n",
       "[2 rows x 7 columns]"
      ]
     },
     "execution_count": 28,
     "metadata": {},
     "output_type": "execute_result"
    }
   ],
   "source": [
    "df.head(2)"
   ]
  },
  {
   "cell_type": "code",
   "execution_count": 29,
   "id": "cb78fbeb",
   "metadata": {},
   "outputs": [],
   "source": [
    "y = df[\"Y house price of unit area\"]"
   ]
  },
  {
   "cell_type": "code",
   "execution_count": 30,
   "id": "19c9abe2",
   "metadata": {},
   "outputs": [
    {
     "data": {
      "text/plain": [
       "0    37.9\n",
       "Name: Y house price of unit area, dtype: float64"
      ]
     },
     "execution_count": 30,
     "metadata": {},
     "output_type": "execute_result"
    }
   ],
   "source": [
    "y.head(1)"
   ]
  },
  {
   "cell_type": "code",
   "execution_count": 31,
   "id": "f4593e06",
   "metadata": {},
   "outputs": [],
   "source": [
    "x = df.drop(columns = \"Y house price of unit area\")"
   ]
  },
  {
   "cell_type": "code",
   "execution_count": 32,
   "id": "01e5e1e9",
   "metadata": {},
   "outputs": [
    {
     "data": {
      "text/html": [
       "<div>\n",
       "<style scoped>\n",
       "    .dataframe tbody tr th:only-of-type {\n",
       "        vertical-align: middle;\n",
       "    }\n",
       "\n",
       "    .dataframe tbody tr th {\n",
       "        vertical-align: top;\n",
       "    }\n",
       "\n",
       "    .dataframe thead th {\n",
       "        text-align: right;\n",
       "    }\n",
       "</style>\n",
       "<table border=\"1\" class=\"dataframe\">\n",
       "  <thead>\n",
       "    <tr style=\"text-align: right;\">\n",
       "      <th></th>\n",
       "      <th>X1 transaction date</th>\n",
       "      <th>X2 house age</th>\n",
       "      <th>X3 distance to the nearest MRT station</th>\n",
       "      <th>X4 number of convenience stores</th>\n",
       "      <th>X5 latitude</th>\n",
       "      <th>X6 longitude</th>\n",
       "    </tr>\n",
       "  </thead>\n",
       "  <tbody>\n",
       "    <tr>\n",
       "      <th>0</th>\n",
       "      <td>2012.916667</td>\n",
       "      <td>32.0</td>\n",
       "      <td>84.87882</td>\n",
       "      <td>10</td>\n",
       "      <td>24.98298</td>\n",
       "      <td>121.54024</td>\n",
       "    </tr>\n",
       "  </tbody>\n",
       "</table>\n",
       "</div>"
      ],
      "text/plain": [
       "   X1 transaction date  X2 house age  ...  X5 latitude  X6 longitude\n",
       "0          2012.916667          32.0  ...     24.98298     121.54024\n",
       "\n",
       "[1 rows x 6 columns]"
      ]
     },
     "execution_count": 32,
     "metadata": {},
     "output_type": "execute_result"
    }
   ],
   "source": [
    "x.head(1)"
   ]
  },
  {
   "cell_type": "code",
   "execution_count": 34,
   "id": "da772673",
   "metadata": {},
   "outputs": [
    {
     "data": {
      "text/plain": [
       "(414, 7)"
      ]
     },
     "execution_count": 34,
     "metadata": {},
     "output_type": "execute_result"
    }
   ],
   "source": [
    "df.shape"
   ]
  },
  {
   "cell_type": "code",
   "execution_count": 35,
   "id": "ff365365",
   "metadata": {},
   "outputs": [],
   "source": [
    "from statsmodels.stats.outliers_influence import variance_inflation_factor"
   ]
  },
  {
   "cell_type": "code",
   "execution_count": 36,
   "id": "4aa1bb51",
   "metadata": {},
   "outputs": [],
   "source": [
    "vif_df = pd.DataFrame()"
   ]
  },
  {
   "cell_type": "code",
   "execution_count": 39,
   "id": "db7ccb7e",
   "metadata": {},
   "outputs": [],
   "source": [
    "scaler = StandardScaler()"
   ]
  },
  {
   "cell_type": "code",
   "execution_count": 40,
   "id": "ce1d0fa1",
   "metadata": {},
   "outputs": [],
   "source": [
    "arr = scaler.fit_transform(x)"
   ]
  },
  {
   "cell_type": "code",
   "execution_count": 41,
   "id": "06964f25",
   "metadata": {},
   "outputs": [
    {
     "data": {
      "text/plain": [
       "array([[-0.82472165,  1.25562833, -0.79249504,  2.00740743,  1.12542986,\n",
       "         0.44876222],\n",
       "       [-0.82472165,  0.15708622, -0.61661163,  1.66750286,  0.91244418,\n",
       "         0.40113894],\n",
       "       [ 1.54224386, -0.38779067, -0.41401527,  0.30788458,  1.48686011,\n",
       "         0.68818339],\n",
       "       ...,\n",
       "       [ 0.35876111,  0.09556786, -0.54967846,  0.98769372,  0.82289338,\n",
       "         0.42397202],\n",
       "       [-0.52885105, -0.84478419, -0.77668389,  0.30788458, -0.18475479,\n",
       "         0.4768143 ],\n",
       "       [ 1.24637326, -0.98539758, -0.78807071,  1.66750286,  0.42757905,\n",
       "         0.63534112]])"
      ]
     },
     "execution_count": 41,
     "metadata": {},
     "output_type": "execute_result"
    }
   ],
   "source": [
    "arr"
   ]
  },
  {
   "cell_type": "code",
   "execution_count": 42,
   "id": "9f7405ef",
   "metadata": {},
   "outputs": [
    {
     "data": {
      "text/plain": [
       "(414, 6)"
      ]
     },
     "execution_count": 42,
     "metadata": {},
     "output_type": "execute_result"
    }
   ],
   "source": [
    "arr.shape"
   ]
  },
  {
   "cell_type": "code",
   "execution_count": 43,
   "id": "b5b4b64e",
   "metadata": {},
   "outputs": [],
   "source": [
    "vif_df[\"vif\"] = [variance_inflation_factor(arr,i) for i in range(arr.shape[1])]"
   ]
  },
  {
   "cell_type": "code",
   "execution_count": 44,
   "id": "8ef46df7",
   "metadata": {},
   "outputs": [],
   "source": [
    "vif_df[\"feature\"] = x.columns"
   ]
  },
  {
   "cell_type": "code",
   "execution_count": 45,
   "id": "8e65154d",
   "metadata": {},
   "outputs": [
    {
     "data": {
      "text/html": [
       "<div>\n",
       "<style scoped>\n",
       "    .dataframe tbody tr th:only-of-type {\n",
       "        vertical-align: middle;\n",
       "    }\n",
       "\n",
       "    .dataframe tbody tr th {\n",
       "        vertical-align: top;\n",
       "    }\n",
       "\n",
       "    .dataframe thead th {\n",
       "        text-align: right;\n",
       "    }\n",
       "</style>\n",
       "<table border=\"1\" class=\"dataframe\">\n",
       "  <thead>\n",
       "    <tr style=\"text-align: right;\">\n",
       "      <th></th>\n",
       "      <th>vif</th>\n",
       "      <th>feature</th>\n",
       "    </tr>\n",
       "  </thead>\n",
       "  <tbody>\n",
       "    <tr>\n",
       "      <th>0</th>\n",
       "      <td>1.014655</td>\n",
       "      <td>X1 transaction date</td>\n",
       "    </tr>\n",
       "    <tr>\n",
       "      <th>1</th>\n",
       "      <td>1.014287</td>\n",
       "      <td>X2 house age</td>\n",
       "    </tr>\n",
       "    <tr>\n",
       "      <th>2</th>\n",
       "      <td>4.322984</td>\n",
       "      <td>X3 distance to the nearest MRT station</td>\n",
       "    </tr>\n",
       "    <tr>\n",
       "      <th>3</th>\n",
       "      <td>1.617021</td>\n",
       "      <td>X4 number of convenience stores</td>\n",
       "    </tr>\n",
       "    <tr>\n",
       "      <th>4</th>\n",
       "      <td>1.610225</td>\n",
       "      <td>X5 latitude</td>\n",
       "    </tr>\n",
       "    <tr>\n",
       "      <th>5</th>\n",
       "      <td>2.926305</td>\n",
       "      <td>X6 longitude</td>\n",
       "    </tr>\n",
       "  </tbody>\n",
       "</table>\n",
       "</div>"
      ],
      "text/plain": [
       "        vif                                 feature\n",
       "0  1.014655                     X1 transaction date\n",
       "1  1.014287                            X2 house age\n",
       "2  4.322984  X3 distance to the nearest MRT station\n",
       "3  1.617021         X4 number of convenience stores\n",
       "4  1.610225                             X5 latitude\n",
       "5  2.926305                            X6 longitude"
      ]
     },
     "execution_count": 45,
     "metadata": {},
     "output_type": "execute_result"
    }
   ],
   "source": [
    "vif_df"
   ]
  },
  {
   "cell_type": "code",
   "execution_count": 46,
   "id": "2371d0ff",
   "metadata": {},
   "outputs": [],
   "source": [
    "x_train, x_test, y_train, y_test = train_test_split(arr, y, test_size=0.24, random_state=34)"
   ]
  },
  {
   "cell_type": "code",
   "execution_count": 47,
   "id": "db7e103f",
   "metadata": {
    "scrolled": true
   },
   "outputs": [
    {
     "data": {
      "text/plain": [
       "array([[-0.52885105, -0.7744775 ,  1.58203634, -1.39163828, -1.16093917,\n",
       "         2.14689108],\n",
       "       [-1.71233381, -0.19444726, -0.21256355, -0.03202   ,  0.79304312,\n",
       "         0.08343293],\n",
       "       [ 1.24637326, -0.36142566, -0.60671455,  0.64778915, -0.32916554,\n",
       "         0.61381278],\n",
       "       ...,\n",
       "       [ 0.95050266, -0.11535223, -0.55058891,  0.64778915, -0.39612695,\n",
       "         0.61120329],\n",
       "       [-0.23298045,  2.081732  , -0.63675284,  1.32759829,  0.35658382,\n",
       "         0.49377601],\n",
       "       [ 0.35876111,  1.21168664, -0.53065713, -0.03202   ,  1.04556023,\n",
       "         0.73580667]])"
      ]
     },
     "execution_count": 47,
     "metadata": {},
     "output_type": "execute_result"
    }
   ],
   "source": [
    "x_train"
   ]
  },
  {
   "cell_type": "code",
   "execution_count": 48,
   "id": "141ba48d",
   "metadata": {},
   "outputs": [
    {
     "data": {
      "text/plain": [
       "array([[ 9.50502663e-01, -8.53572528e-01, -7.54680765e-01,\n",
       "         1.66750286e+00,  1.12542986e+00,  4.20710154e-01],\n",
       "       [-1.12059261e+00, -1.76870587e-01, -2.12563547e-01,\n",
       "        -3.20199958e-02,  7.93043116e-01,  8.34329289e-02],\n",
       "       [-2.32980449e-01, -3.26272314e-01, -5.11694731e-01,\n",
       "        -1.05173371e+00,  4.75984884e-01, -3.95409398e-01],\n",
       "       [ 9.50502663e-01,  1.38745338e+00,  7.09817859e-01,\n",
       "        -7.11829138e-01,  1.42877311e+00, -9.73412534e-01],\n",
       "       [ 6.54631707e-01,  1.71262185e+00, -7.11872682e-01,\n",
       "         1.66750286e+00,  6.45405314e-01,  6.05984297e-01],\n",
       "       [ 6.54631707e-01, -3.35060651e-01, -6.30311542e-01,\n",
       "         3.07884575e-01,  1.04878729e+00,  6.60131318e-01],\n",
       "       [ 9.50502663e-01, -2.74688598e-02, -6.99122485e-02,\n",
       "        -1.39163828e+00, -4.82450688e-01,  1.03002723e+00],\n",
       "       [ 1.24637326e+00, -1.19631767e+00, -6.11612675e-01,\n",
       "         3.07884575e-01, -1.05848015e+00,  4.04400810e-01],\n",
       "       [ 1.24637326e+00, -1.20510600e+00,  8.43648646e-01,\n",
       "        -3.71924567e-01, -4.87291272e-01, -1.33874183e+00],\n",
       "       [-1.41646321e+00, -4.22944020e-01, -6.61006671e-01,\n",
       "         9.87693717e-01, -2.39614739e-01,  6.26860257e-01],\n",
       "       [ 6.54631707e-01,  5.52561375e-01,  2.73190859e+00,\n",
       "        -1.39163828e+00, -1.74422951e+00, -2.41907275e+00],\n",
       "       [ 9.50502663e-01, -1.21389434e+00,  8.43648646e-01,\n",
       "        -3.71924567e-01, -4.87291272e-01, -1.33874183e+00],\n",
       "       [ 1.54224386e+00, -9.77755550e-02, -6.03049266e-01,\n",
       "         6.47789146e-01,  7.56738739e-01,  6.15769903e-01],\n",
       "       [-2.32980449e-01,  1.19410997e+00,  5.35085408e-01,\n",
       "        -1.05173371e+00, -1.21095853e+00,  1.26944839e+00],\n",
       "       [-8.24721650e-01, -1.59293913e-01, -6.30311542e-01,\n",
       "         3.07884575e-01,  1.04878729e+00,  6.60131318e-01],\n",
       "       [-1.41646321e+00, -3.70213999e-01,  2.46985711e+00,\n",
       "        -1.39163828e+00, -2.43481945e+00, -1.92653057e+00],\n",
       "       [-2.32980449e-01,  1.09743826e+00, -4.85260007e-01,\n",
       "        -3.71924567e-01,  8.22840768e-02,  2.75230809e-01],\n",
       "       [-5.28851050e-01, -7.14105443e-02, -9.24061016e-02,\n",
       "        -3.20199958e-02,  1.58851237e+00,  4.68999993e-02],\n",
       "       [-1.71233381e+00, -1.55663948e+00, -7.12729825e-01,\n",
       "        -1.39163828e+00,  1.66994291e-01, -1.08364951e-01],\n",
       "       [ 1.54224386e+00,  1.55443178e+00, -6.07144192e-01,\n",
       "         1.66750286e+00,  1.35530497e-01,  4.78119043e-01],\n",
       "       [-2.32980449e-01, -5.10827389e-01,  2.19147019e-01,\n",
       "        -1.05173371e+00, -1.37069780e+00,  9.82403946e-01],\n",
       "       [ 9.50502663e-01,  1.39624172e+00, -5.65322081e-01,\n",
       "         1.32759829e+00,  2.83168300e-01,  4.71595306e-01],\n",
       "       [-5.28851050e-01,  1.15895662e+00,  4.21423378e+00,\n",
       "        -1.05173371e+00, -2.03950511e+00, -3.55746493e+00],\n",
       "       [-1.12059261e+00, -4.40520694e-01, -7.11101453e-01,\n",
       "        -1.05173371e+00,  3.91274669e-01, -2.31663589e-01],\n",
       "       [-2.32980449e-01,  1.34351170e+00, -7.16182985e-01,\n",
       "         1.66750286e+00,  6.40564730e-01,  6.04027176e-01],\n",
       "       [ 1.24637326e+00, -3.96579009e-01,  6.42180817e-02,\n",
       "        -3.20199958e-02,  1.81763333e+00,  4.55952518e-02],\n",
       "       [-8.24721650e-01,  6.66809755e-01,  1.28789975e+00,\n",
       "        -3.71924567e-01, -6.83334912e-01, -1.63426714e+00],\n",
       "       [ 9.50502663e-01,  9.21671525e-01, -5.97976856e-01,\n",
       "         1.32759829e+00,  4.07409948e-01,  4.40281366e-01],\n",
       "       [ 1.54224386e+00, -1.32814272e+00, -4.36630419e-01,\n",
       "        -3.20199958e-02,  4.37260215e-01,  9.32171168e-01],\n",
       "       [-1.41646321e+00,  1.78292854e+00, -4.93501978e-01,\n",
       "        -1.39163828e+00,  2.62999201e-01,  7.10378278e-02],\n",
       "       [ 1.24637326e+00,  7.63481461e-01, -5.93659890e-01,\n",
       "         6.47789146e-01,  8.52743649e-01,  5.24437579e-01],\n",
       "       [-1.12059261e+00, -1.15237598e+00, -6.53843565e-01,\n",
       "         6.47789146e-01,  5.50207168e-01,  7.69730106e-01],\n",
       "       [-8.24721650e-01, -7.14105443e-02, -9.45086185e-02,\n",
       "        -3.20199958e-02,  1.58851237e+00,  4.88571205e-02],\n",
       "       [-1.41646321e+00, -8.71149202e-01, -7.76683893e-01,\n",
       "         3.07884575e-01, -1.84754791e-01,  4.76814296e-01],\n",
       "       [ 1.24637326e+00, -6.26222074e-02,  2.37836462e+00,\n",
       "        -1.39163828e+00, -2.21699318e+00, -1.92783532e+00],\n",
       "       [-5.28851050e-01,  4.47101333e-01, -2.98257691e-01,\n",
       "        -7.11829138e-01,  9.65690602e-01,  8.98247734e-01],\n",
       "       [ 9.50502663e-01, -1.24904769e+00, -2.59044926e-01,\n",
       "        -3.71924567e-01,  5.12289262e-01,  1.06656016e+00],\n",
       "       [-1.41646321e+00, -1.50505576e-01,  2.36612586e+00,\n",
       "        -1.39163828e+00, -2.10243270e+00, -1.95327790e+00],\n",
       "       [-1.12059261e+00, -1.32928903e-01,  2.37259032e+00,\n",
       "        -1.39163828e+00, -2.15245206e+00, -1.94349229e+00],\n",
       "       [ 1.24637326e+00, -1.06449261e+00,  1.05118493e+00,\n",
       "        -1.39163828e+00, -1.12786185e+00,  1.71436729e+00],\n",
       "       [-8.24721650e-01,  1.80929355e+00, -3.49986239e-01,\n",
       "        -3.71924567e-01,  5.29231305e-01,  2.45873991e-01],\n",
       "       [ 1.24637326e+00, -2.91118967e-01, -7.24985490e-01,\n",
       "        -1.05173371e+00,  3.75946154e-01, -2.32968336e-01],\n",
       "       [-8.24721650e-01, -7.74477496e-01,  2.55868877e-01,\n",
       "        -1.39163828e+00,  1.34728995e+00, -3.77142934e-01],\n",
       "       [ 9.50502663e-01,  9.56824873e-01, -7.03445083e-01,\n",
       "         6.47789146e-01,  5.87318309e-01,  7.17540207e-01],\n",
       "       [-8.24721650e-01, -8.53572528e-01, -7.76683893e-01,\n",
       "         3.07884575e-01, -1.84754791e-01,  4.76814296e-01],\n",
       "       [ 3.58761107e-01,  1.58958513e+00, -7.24389893e-01,\n",
       "         9.87693717e-01, -1.48450413e-01,  6.08593792e-01],\n",
       "       [ 9.50502663e-01,  3.50429627e-01, -4.53231846e-01,\n",
       "        -3.20199958e-02,  4.00955837e-01,  3.30030204e-01],\n",
       "       [-1.71233381e+00,  1.31714669e+00, -5.48507340e-01,\n",
       "         6.47789146e-01, -4.07421641e-01,  5.96198691e-01],\n",
       "       [-2.32980449e-01, -2.29600608e-01, -5.55778095e-01,\n",
       "         9.87693717e-01, -1.35542190e-01,  7.35806672e-01],\n",
       "       [-2.32980449e-01,  2.19598038e+00, -5.07767426e-01,\n",
       "         6.47789146e-01,  8.26120438e-01,  3.50906163e-01],\n",
       "       [ 9.50502663e-01,  1.83451226e-01, -3.51645311e-01,\n",
       "         3.07884575e-01,  9.19652442e-02,  8.55191067e-01],\n",
       "       [-1.71233381e+00,  1.15895662e+00, -7.31362135e-01,\n",
       "         1.66750286e+00,  1.16980188e+00,  4.10924548e-01],\n",
       "       [ 3.58761107e-01, -6.42652443e-01, -6.40525694e-01,\n",
       "         3.07884575e-01, -1.05686662e+00,  3.76348739e-01],\n",
       "       [ 3.58761107e-01, -3.87790673e-01, -6.61006671e-01,\n",
       "         9.87693717e-01, -2.39614739e-01,  6.26860257e-01],\n",
       "       [ 6.54631707e-01,  6.93174766e-01,  2.72556470e+00,\n",
       "        -1.39163828e+00, -1.67565457e+00, -2.44582007e+00],\n",
       "       [ 6.28905064e-02,  1.88838858e+00, -5.22910244e-01,\n",
       "         9.87693717e-01,  4.24351991e-01,  3.78958234e-01],\n",
       "       [-5.28851050e-01,  1.15016828e+00, -5.60129172e-01,\n",
       "         6.47789146e-01, -3.84025486e-01,  4.09619800e-01],\n",
       "       [-8.24721650e-01, -1.03812760e+00, -7.88070707e-01,\n",
       "         1.66750286e+00,  4.27579047e-01,  6.35341115e-01],\n",
       "       [-2.32980449e-01,  8.68941504e-01, -4.51198266e-01,\n",
       "         3.07884575e-01, -4.87291272e-01,  6.41864853e-01],\n",
       "       [ 1.24637326e+00,  1.80929355e+00, -5.11013142e-01,\n",
       "        -1.39163828e+00,  2.08139253e-01,  5.66856054e-02],\n",
       "       [-5.28851050e-01,  5.16261723e-02, -7.94075565e-01,\n",
       "         2.00740743e+00,  1.12704339e+00,  4.50066972e-01],\n",
       "       [ 9.50502663e-01, -5.10827389e-01,  1.65593302e+00,\n",
       "        -1.39163828e+00,  2.59131996e+00, -1.01777395e+00],\n",
       "       [ 3.58761107e-01,  1.10622660e+00,  1.43460694e-01,\n",
       "        -1.39163828e+00, -1.62966902e+00, -2.49277680e-01],\n",
       "       [-1.41646321e+00, -1.10384908e-03, -5.81503465e-01,\n",
       "        -1.05173371e+00,  5.17129846e-01, -1.41636012e-01],\n",
       "       [-1.71233381e+00,  1.37866504e+00, -7.11508962e-01,\n",
       "         6.47789146e-01, -2.41228267e-01,  5.70756115e-01],\n",
       "       [ 9.50502663e-01, -5.38338705e-02, -9.24061016e-02,\n",
       "        -3.20199958e-02,  1.58851237e+00,  4.68999993e-02],\n",
       "       [ 6.54631707e-01, -2.20812272e-01, -4.94043949e-01,\n",
       "         3.07884575e-01, -1.19240296e+00,  4.26581518e-01],\n",
       "       [ 9.50502663e-01,  2.01027900e-01,  4.30115839e-01,\n",
       "        -3.71924567e-01, -2.26706516e-01, -1.08823031e+00],\n",
       "       [-2.32980449e-01, -1.55663948e+00, -6.42457020e-01,\n",
       "        -1.05173371e+00,  4.65496953e-01, -1.80778437e-01],\n",
       "       [ 9.50502663e-01,  1.32593502e+00, -6.97862990e-01,\n",
       "         1.32759829e+00,  1.07541050e+00,  3.82872477e-01],\n",
       "       [ 1.54224386e+00, -1.20510600e+00,  8.43648646e-01,\n",
       "        -3.71924567e-01, -4.87291272e-01, -1.33874183e+00],\n",
       "       [ 3.58761107e-01, -1.32928903e-01, -6.30311542e-01,\n",
       "         3.07884575e-01,  1.04878729e+00,  6.60131318e-01],\n",
       "       [ 1.24637326e+00, -1.20510600e+00,  8.43648646e-01,\n",
       "        -3.71924567e-01, -4.87291272e-01, -1.33874183e+00],\n",
       "       [ 9.50502663e-01, -3.61425662e-01, -4.69349292e-01,\n",
       "         3.07884575e-01, -3.13030259e-01,  2.61530961e-01],\n",
       "       [ 1.54224386e+00, -3.87790673e-01, -4.14015273e-01,\n",
       "         3.07884575e-01,  1.48686011e+00,  6.88183388e-01],\n",
       "       [-1.12059261e+00,  1.49291342e+00, -4.76864219e-01,\n",
       "         3.07884575e-01,  4.27579047e-01,  3.43730052e-01],\n",
       "       [-8.24721650e-01, -6.86594127e-01, -6.38365109e-01,\n",
       "         9.87693717e-01,  5.04221622e-01,  7.86039450e-01],\n",
       "       [ 6.54631707e-01, -1.86805229e-02, -6.99122485e-02,\n",
       "        -1.39163828e+00, -4.82450688e-01,  1.03002723e+00],\n",
       "       [ 1.24637326e+00, -3.61425662e-01, -4.69349292e-01,\n",
       "         3.07884575e-01, -3.13030259e-01,  2.61530961e-01],\n",
       "       [ 9.50502663e-01, -5.89922421e-01,  6.72165481e-01,\n",
       "        -7.11829138e-01, -4.34044851e-01, -1.21674794e+00],\n",
       "       [ 1.24637326e+00, -4.05367346e-01,  4.80335245e-02,\n",
       "        -3.20199958e-02,  1.83376861e+00,  7.82139389e-02],\n",
       "       [ 3.58761107e-01, -1.08206929e+00, -5.49996729e-01,\n",
       "         3.07884575e-01,  8.34188078e-01,  5.92936822e-01],\n",
       "       [ 6.28905064e-02, -4.14155683e-01, -2.78468377e-01,\n",
       "        -1.39163828e+00,  6.17168575e-01, -5.33712632e-01],\n",
       "       [-5.28851050e-01, -3.61425662e-01,  2.37836462e+00,\n",
       "        -1.39163828e+00, -2.21699318e+00, -1.92783532e+00],\n",
       "       [ 6.54631707e-01,  1.30721204e-01, -5.55435079e-01,\n",
       "         1.32759829e+00,  2.39603047e-01,  7.44287530e-01],\n",
       "       [-2.32980449e-01, -1.24025935e+00, -5.55316484e-01,\n",
       "         3.07884575e-01,  9.53589142e-01,  6.88183388e-01],\n",
       "       [ 1.24637326e+00, -8.09630844e-01, -7.76683893e-01,\n",
       "         3.07884575e-01, -1.84754791e-01,  4.76814296e-01],\n",
       "       [ 1.24637326e+00, -4.75674042e-01,  2.19147019e-01,\n",
       "        -1.05173371e+00, -1.37069780e+00,  9.82403946e-01],\n",
       "       [-8.24721650e-01,  2.03779031e+00, -7.26874613e-01,\n",
       "         3.07884575e-01, -2.20252404e-01,  4.50066972e-01],\n",
       "       [ 6.28905064e-02, -6.77805790e-01, -1.12185499e-01,\n",
       "        -1.39163828e+00,  7.58352267e-01, -6.06778491e-01],\n",
       "       [-5.28851050e-01, -9.89218598e-03, -1.95276406e-01,\n",
       "        -1.39163828e+00, -4.59054533e-01,  9.33475916e-01],\n",
       "       [-5.28851050e-01,  1.30721204e-01, -4.94043949e-01,\n",
       "         3.07884575e-01, -1.19240296e+00,  4.26581518e-01],\n",
       "       [ 1.24637326e+00, -8.09630844e-01, -7.76683893e-01,\n",
       "         3.07884575e-01, -1.84754791e-01,  4.76814296e-01],\n",
       "       [-2.32980449e-01,  1.65989182e+00, -4.72055973e-01,\n",
       "         1.32759829e+00,  9.03517163e-02,  7.55377884e-01],\n",
       "       [-1.71233381e+00, -1.28420104e+00, -5.55316484e-01,\n",
       "         3.07884575e-01,  9.53589142e-01,  6.88183388e-01],\n",
       "       [-1.41646321e+00, -5.45980737e-01,  2.19147019e-01,\n",
       "        -1.05173371e+00, -1.37069780e+00,  9.82403946e-01],\n",
       "       [ 3.58761107e-01, -1.22268268e+00, -5.55316484e-01,\n",
       "         3.07884575e-01,  9.53589142e-01,  6.88183388e-01],\n",
       "       [-1.41646321e+00,  1.77414020e+00, -4.72251596e-01,\n",
       "        -1.05173371e+00,  3.59810875e-01,  7.49520702e-02],\n",
       "       [-8.24721650e-01, -1.24140566e-01,  2.36612586e+00,\n",
       "        -1.39163828e+00, -2.10243270e+00, -1.95327790e+00],\n",
       "       [-1.71233381e+00, -1.45996777e+00, -5.98064673e-01,\n",
       "         3.07884575e-01,  1.08993225e+00,  6.90792883e-01]])"
      ]
     },
     "execution_count": 48,
     "metadata": {},
     "output_type": "execute_result"
    }
   ],
   "source": [
    "x_test"
   ]
  },
  {
   "cell_type": "code",
   "execution_count": 49,
   "id": "9515f987",
   "metadata": {},
   "outputs": [
    {
     "data": {
      "text/plain": [
       "187    22.0\n",
       "159    37.4\n",
       "137    47.4\n",
       "158    39.4\n",
       "377    56.8\n",
       "       ... \n",
       "324    31.3\n",
       "85     50.8\n",
       "246    40.6\n",
       "361    63.3\n",
       "122    32.5\n",
       "Name: Y house price of unit area, Length: 314, dtype: float64"
      ]
     },
     "execution_count": 49,
     "metadata": {},
     "output_type": "execute_result"
    }
   ],
   "source": [
    "y_train"
   ]
  },
  {
   "cell_type": "code",
   "execution_count": 50,
   "id": "2bfebc8e",
   "metadata": {},
   "outputs": [
    {
     "data": {
      "text/plain": [
       "381    47.3\n",
       "265    38.1\n",
       "179    42.6\n",
       "283    23.5\n",
       "220    78.3\n",
       "       ... \n",
       "208    26.2\n",
       "127    55.0\n",
       "32     34.2\n",
       "189    20.5\n",
       "254    51.8\n",
       "Name: Y house price of unit area, Length: 100, dtype: float64"
      ]
     },
     "execution_count": 50,
     "metadata": {},
     "output_type": "execute_result"
    }
   ],
   "source": [
    "y_test"
   ]
  },
  {
   "cell_type": "code",
   "execution_count": 51,
   "id": "36e34c5d",
   "metadata": {},
   "outputs": [],
   "source": [
    "reg = LinearRegression()"
   ]
  },
  {
   "cell_type": "code",
   "execution_count": 52,
   "id": "7ee06984",
   "metadata": {},
   "outputs": [
    {
     "data": {
      "text/plain": [
       "LinearRegression()"
      ]
     },
     "execution_count": 52,
     "metadata": {},
     "output_type": "execute_result"
    }
   ],
   "source": [
    "reg.fit(x_train, y_train)"
   ]
  },
  {
   "cell_type": "code",
   "execution_count": 53,
   "id": "0ed952c6",
   "metadata": {},
   "outputs": [
    {
     "data": {
      "text/plain": [
       "0.5626558290181947"
      ]
     },
     "execution_count": 53,
     "metadata": {},
     "output_type": "execute_result"
    }
   ],
   "source": [
    "reg.score(x_train, y_train)"
   ]
  },
  {
   "cell_type": "code",
   "execution_count": 54,
   "id": "9223a7eb",
   "metadata": {},
   "outputs": [
    {
     "data": {
      "text/plain": [
       "0.6478907490595796"
      ]
     },
     "execution_count": 54,
     "metadata": {},
     "output_type": "execute_result"
    }
   ],
   "source": [
    "reg.score(x_test, y_test)"
   ]
  },
  {
   "cell_type": "code",
   "execution_count": 56,
   "id": "98a82d6a",
   "metadata": {},
   "outputs": [
    {
     "data": {
      "text/html": [
       "<div>\n",
       "<style scoped>\n",
       "    .dataframe tbody tr th:only-of-type {\n",
       "        vertical-align: middle;\n",
       "    }\n",
       "\n",
       "    .dataframe tbody tr th {\n",
       "        vertical-align: top;\n",
       "    }\n",
       "\n",
       "    .dataframe thead th {\n",
       "        text-align: right;\n",
       "    }\n",
       "</style>\n",
       "<table border=\"1\" class=\"dataframe\">\n",
       "  <thead>\n",
       "    <tr style=\"text-align: right;\">\n",
       "      <th></th>\n",
       "      <th>X1 transaction date</th>\n",
       "      <th>X2 house age</th>\n",
       "      <th>X3 distance to the nearest MRT station</th>\n",
       "      <th>X4 number of convenience stores</th>\n",
       "      <th>X5 latitude</th>\n",
       "      <th>X6 longitude</th>\n",
       "      <th>Y house price of unit area</th>\n",
       "    </tr>\n",
       "  </thead>\n",
       "  <tbody>\n",
       "    <tr>\n",
       "      <th>0</th>\n",
       "      <td>2012.916667</td>\n",
       "      <td>32.0</td>\n",
       "      <td>84.87882</td>\n",
       "      <td>10</td>\n",
       "      <td>24.98298</td>\n",
       "      <td>121.54024</td>\n",
       "      <td>37.9</td>\n",
       "    </tr>\n",
       "    <tr>\n",
       "      <th>1</th>\n",
       "      <td>2012.916667</td>\n",
       "      <td>19.5</td>\n",
       "      <td>306.59470</td>\n",
       "      <td>9</td>\n",
       "      <td>24.98034</td>\n",
       "      <td>121.53951</td>\n",
       "      <td>42.2</td>\n",
       "    </tr>\n",
       "  </tbody>\n",
       "</table>\n",
       "</div>"
      ],
      "text/plain": [
       "   X1 transaction date  X2 house age  ...  X6 longitude  Y house price of unit area\n",
       "0          2012.916667          32.0  ...     121.54024                        37.9\n",
       "1          2012.916667          19.5  ...     121.53951                        42.2\n",
       "\n",
       "[2 rows x 7 columns]"
      ]
     },
     "execution_count": 56,
     "metadata": {},
     "output_type": "execute_result"
    }
   ],
   "source": [
    "df.head(2)"
   ]
  },
  {
   "cell_type": "code",
   "execution_count": 58,
   "id": "4b7f9572",
   "metadata": {},
   "outputs": [],
   "source": [
    "test1 = scaler.transform([[2012.916667, 32.0, 84.87882, 10, 24.98298, 121.54024]])"
   ]
  },
  {
   "cell_type": "code",
   "execution_count": 59,
   "id": "0446a120",
   "metadata": {},
   "outputs": [
    {
     "data": {
      "text/plain": [
       "array([45.9344743])"
      ]
     },
     "execution_count": 59,
     "metadata": {},
     "output_type": "execute_result"
    }
   ],
   "source": [
    "reg.predict(test1)"
   ]
  },
  {
   "cell_type": "code",
   "execution_count": 60,
   "id": "52cb46a2",
   "metadata": {},
   "outputs": [],
   "source": [
    "# Let's create a function for adjusted r2 for test data set\n",
    "def adj1_r2(x,y):\n",
    "    r2 = reg.score(x_test, y_test)\n",
    "    n = x.shape[0]\n",
    "    p = x.shape[1]\n",
    "    adjusted_r2 = (1-(1-r2)*(n-1)/(n-p-1))\n",
    "    return adjusted_r2\n"
   ]
  },
  {
   "cell_type": "code",
   "execution_count": 61,
   "id": "df47734f",
   "metadata": {},
   "outputs": [
    {
     "data": {
      "text/plain": [
       "0.6251740231924556"
      ]
     },
     "execution_count": 61,
     "metadata": {},
     "output_type": "execute_result"
    }
   ],
   "source": [
    "adj1_r2(x_test, y_test)"
   ]
  },
  {
   "cell_type": "code",
   "execution_count": null,
   "id": "f64539d0",
   "metadata": {},
   "outputs": [],
   "source": []
  }
 ],
 "metadata": {
  "kernelspec": {
   "display_name": "Python 3 (ipykernel)",
   "language": "python",
   "name": "python3"
  },
  "language_info": {
   "codemirror_mode": {
    "name": "ipython",
    "version": 3
   },
   "file_extension": ".py",
   "mimetype": "text/x-python",
   "name": "python",
   "nbconvert_exporter": "python",
   "pygments_lexer": "ipython3",
   "version": "3.9.7"
  }
 },
 "nbformat": 4,
 "nbformat_minor": 5
}
